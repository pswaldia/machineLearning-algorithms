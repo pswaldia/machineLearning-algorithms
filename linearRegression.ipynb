{
 "cells": [
  {
   "cell_type": "markdown",
   "metadata": {},
   "source": [
    "# Implementing the linear regression using numpy\n",
    "-  DataSet is in reg.csv file in which we have only one feature 'Population' of a city in which a truck country is operating And Target Value is the Profit*10,000 dollars. This is the simple linear regression containing one feature.\n",
    "\n",
    "-  hyphothesis is given by: h(x) = θ◦ + θ1 * X   where theta0 is the intercept of the linear line and theta1 is the slope of the line. \n",
    "\n",
    "-  Our aim is to minimise the cost function in order to make the best fit line passing through the datapoints"
   ]
  },
  {
   "cell_type": "code",
   "execution_count": 1,
   "metadata": {
    "collapsed": false,
    "deletable": true,
    "editable": true
   },
   "outputs": [
    {
     "data": {
      "image/png": "[encoded data removed]",
      "text/plain": [
       "<matplotlib.figure.Figure at 0x1a0be90dd8>"
      ]
     },
     "metadata": {},
     "output_type": "display_data"
    }
   ],
   "source": [
    "import pandas as pd \n",
    "import seaborn as sns\n",
    "import matplotlib.pyplot as plt \n",
    "\n",
    "df=pd.read_csv(\"reg.csv\")\n",
    "df=df.loc[:,{'Population','Profit'}]\n",
    "plt.scatter(df.Population,df.Profit)\n",
    "plt.xlabel('Population in 1000s')\n",
    "plt.ylabel('profit in $10,000')\n",
    "plt.show()\n"
   ]
  },
  {
   "cell_type": "code",
   "execution_count": 2,
   "metadata": {
    "collapsed": true,
    "deletable": true,
    "editable": true
   },
   "outputs": [],
   "source": [
    "import numpy as np"
   ]
  },
  {
   "cell_type": "code",
   "execution_count": 3,
   "metadata": {
    "collapsed": false,
    "deletable": true,
    "editable": true
   },
   "outputs": [],
   "source": [
    "population_array=df.Population.as_matrix().reshape(97,1)\n",
    "profit_array=df.Profit.as_matrix().reshape(97,1)\n"
   ]
  },
  {
   "cell_type": "code",
   "execution_count": 31,
   "metadata": {
    "collapsed": false,
    "deletable": true,
    "editable": true
   },
   "outputs": [],
   "source": [
    "X_data=np.column_stack((np.ones_like(population_array),population_array))\n"
   ]
  },
  {
   "cell_type": "code",
   "execution_count": 30,
   "metadata": {
    "collapsed": false,
    "deletable": true,
    "editable": true
   },
   "outputs": [],
   "source": [
    "theta=np.zeros((2,1))"
   ]
  },
  {
   "cell_type": "markdown",
   "metadata": {},
   "source": [
    "# Cost computation using ordinary least squared method"
   ]
  },
  {
   "cell_type": "code",
   "execution_count": 6,
   "metadata": {
    "collapsed": false,
    "deletable": true,
    "editable": true
   },
   "outputs": [
    {
     "data": {
      "text/plain": [
       "32.072733877455676"
      ]
     },
     "execution_count": 6,
     "metadata": {},
     "output_type": "execute_result"
    }
   ],
   "source": [
    "def computeCost(X,Y,theta):\n",
    "    return (1.0/(2*len(X)))*np.sum(np.power(np.dot(X,theta)-Y,2))\n",
    "computeCost(X_data,profit_array,theta)"
   ]
  },
  {
   "cell_type": "code",
   "execution_count": 7,
   "metadata": {
    "collapsed": false,
    "deletable": true,
    "editable": true
   },
   "outputs": [
    {
     "data": {
      "text/plain": [
       "(97,)"
      ]
     },
     "execution_count": 7,
     "metadata": {},
     "output_type": "execute_result"
    }
   ],
   "source": [
    "\n",
    "y_estimate=np.dot(X_data,theta).flatten()\n",
    "y_estimate.shape\n",
    "x=profit_array.flatten()-y_estimate\n",
    "x.shape\n"
   ]
  },
  {
   "cell_type": "code",
   "execution_count": 24,
   "metadata": {
    "collapsed": false,
    "deletable": true,
    "editable": true
   },
   "outputs": [],
   "source": [
    "def gradientDescent(X, y, theta, alpha, num_iters):\n",
    "    \n",
    "    m = len(y) # number of training examples\n",
    "    \n",
    "    cost=[]\n",
    "    numIter=[]\n",
    "    for i in range(num_iters):\n",
    "        y_estimate=np.dot(X,theta)\n",
    "        \n",
    "        error=y_estimate-y\n",
    "       \n",
    "        theta=theta-alpha*(1.0/m)*np.dot(X.T,error)\n",
    "        numIter.append(i)\n",
    "        cost.append(computeCost(X,y,theta))\n",
    " \n",
    "    return (theta,cost,numIter)    \n",
    "    \n",
    "\n",
    "\n",
    "    \n",
    "\n"
   ]
  },
  {
   "cell_type": "code",
   "execution_count": 27,
   "metadata": {
    "collapsed": false,
    "deletable": true,
    "editable": true
   },
   "outputs": [
    {
     "name": "stdout",
     "output_type": "stream",
     "text": [
      "[[-3.53629894]\n",
      " [ 1.15691978]]\n"
     ]
    }
   ],
   "source": [
    "print(x)   #printing the returned value of theta matrix\n"
   ]
  },
  {
   "cell_type": "code",
   "execution_count": 28,
   "metadata": {
    "collapsed": false
   },
   "outputs": [
    {
     "name": "stdout",
     "output_type": "stream",
     "text": [
      "[ 4.64404947]\n"
     ]
    }
   ],
   "source": [
    "y_pred=x[0]+x[1]*7.0708        #predicting a value when population is given\n",
    "print(y_pred)"
   ]
  },
  {
   "cell_type": "markdown",
   "metadata": {},
   "source": [
    "# drawing a curve of cost function vs number of iterations"
   ]
  },
  {
   "cell_type": "code",
   "execution_count": 23,
   "metadata": {
    "collapsed": false,
    "deletable": true,
    "editable": true
   },
   "outputs": [
    {
     "data": {
      "image/png": "[encoded data removed]",
      "text/plain": [
       "<matplotlib.figure.Figure at 0x1a1425e320>"
      ]
     },
     "metadata": {},
     "output_type": "display_data"
    }
   ],
   "source": [
    "x,cost,numIter=gradientDescent(X_data,profit_array,theta,0.0001111,120000)\n",
    "plt.plot(numIter,cost)\n",
    "plt.xlabel('num Of Iterations')\n",
    "plt.ylabel('cost function')\n",
    "plt.show()\n"
   ]
  },
  {
   "cell_type": "markdown",
   "metadata": {},
   "source": [
    "# The curve showing the best fit line"
   ]
  },
  {
   "cell_type": "code",
   "execution_count": 20,
   "metadata": {
    "collapsed": false,
    "deletable": true,
    "editable": true
   },
   "outputs": [
    {
     "data": {
      "image/png": "[encoded data removed]",
      "text/plain": [
       "<matplotlib.figure.Figure at 0x1a1425d828>"
      ]
     },
     "metadata": {},
     "output_type": "display_data"
    }
   ],
   "source": [
    "import seaborn as nsn\n",
    "nsn.regplot(df.Population,df.Profit)\n",
    "plt.show()"
   ]
  },
  {
   "cell_type": "code",
   "execution_count": null,
   "metadata": {
    "collapsed": true
   },
   "outputs": [],
   "source": []
  }
 ],
 "metadata": {
  "kernelspec": {
   "display_name": "Python 3",
   "language": "python",
   "name": "python3"
  },
  "language_info": {
   "codemirror_mode": {
    "name": "ipython",
    "version": 3
   },
   "file_extension": ".py",
   "mimetype": "text/x-python",
   "name": "python",
   "nbconvert_exporter": "python",
   "pygments_lexer": "ipython3",
   "version": "3.6.3"
  }
 },
 "nbformat": 4,
 "nbformat_minor": 2
}
