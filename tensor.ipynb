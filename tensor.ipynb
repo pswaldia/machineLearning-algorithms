{
  "nbformat": 4,
  "nbformat_minor": 0,
  "metadata": {
    "colab": {
      "name": "tensor.ipynb",
      "version": "0.3.2",
      "provenance": [],
      "collapsed_sections": []
    },
    "kernelspec": {
      "name": "python3",
      "display_name": "Python 3"
    },
    "accelerator": "GPU"
  },
  "cells": [
    {
      "metadata": {
        "id": "otlBQYx02nKd",
        "colab_type": "text"
      },
      "cell_type": "markdown",
      "source": [
        "**Linear Regression implementation using tensorflow**\n",
        "\n",
        "---\n",
        "\n",
        "Importing important libraries"
      ]
    },
    {
      "metadata": {
        "id": "kwF9lD3H2lpY",
        "colab_type": "code",
        "colab": {}
      },
      "cell_type": "code",
      "source": [
        "import numpy as np\n",
        "import tensorflow as tf\n",
        "import matplotlib.pyplot as plt\n"
      ],
      "execution_count": 0,
      "outputs": []
    },
    {
      "metadata": {
        "id": "Gbt_793T2kd1",
        "colab_type": "text"
      },
      "cell_type": "markdown",
      "source": [
        "Generating our sample dataset, this will reduce the overhead of importing a dataset."
      ]
    },
    {
      "metadata": {
        "id": "jZIGBIc2qiLN",
        "colab_type": "code",
        "colab": {}
      },
      "cell_type": "code",
      "source": [
        "def generate_dataset():\n",
        "  '''\n",
        "  y will be generated as 2*x + c \n",
        "  x will be generated using np.linspace which gives equally separated no's.\n",
        "  random.seed(1) is used to enable the random function to give same result all the time\n",
        "  '''\n",
        "  np.random.seed(1)     \n",
        "  x_batch=np.linspace(-1,1,101)\n",
        "  y_batch=2*x_batch+np.random.randn(x_batch.shape[0])*0.3\n",
        "  return x_batch,y_batch\n"
      ],
      "execution_count": 0,
      "outputs": []
    },
    {
      "metadata": {
        "id": "ErdBx4vC4P8i",
        "colab_type": "text"
      },
      "cell_type": "markdown",
      "source": [
        "Plotting our graph from the sample dataset."
      ]
    },
    {
      "metadata": {
        "id": "duNq8GTrvxCN",
        "colab_type": "code",
        "colab": {
          "base_uri": "https://localhost:8080/",
          "height": 361
        },
        "outputId": "9aaeeedf-0e29-466f-ca0a-2e0912d6d23c"
      },
      "cell_type": "code",
      "source": [
        "x_batch,y_batch=generate_dataset()\n",
        "plt.scatter(x_batch,y_batch,20,c='b')\n",
        "plt.xlabel('X')\n",
        "plt.ylabel('y')\n",
        "plt.show()"
      ],
      "execution_count": 26,
      "outputs": [
        {
          "output_type": "display_data",
          "data": {
            "image/png": "[encoded data removed]",
            "text/plain": [
              "<matplotlib.figure.Figure at 0x7f612d81add8>"
            ]
          },
          "metadata": {
            "tags": []
          }
        }
      ]
    },
    {
      "metadata": {
        "id": "feuo_K_N_euO",
        "colab_type": "text"
      },
      "cell_type": "markdown",
      "source": [
        "Making a function that will return the loss,placeholders and y_pred"
      ]
    },
    {
      "metadata": {
        "id": "EEEMCCzg4gLQ",
        "colab_type": "code",
        "colab": {}
      },
      "cell_type": "code",
      "source": [
        "def linear_regression():\n",
        "  '''\n",
        "  shape in placeholderd is put as None so that we can dynamically change it with batch size we require\n",
        "  \n",
        "  '''\n",
        "  x=tf.placeholder(tf.float32,shape=(None,),name='x')\n",
        "  y=tf.placeholder(tf.float32,shape=(None,),name='y')\n",
        "  \n",
        "  with tf.variable_scope('lreg') as scope:\n",
        "    w=tf.Variable(np.random.normal(),name='W')   #in this case a single integer\n",
        "    y_pred=tf.multiply(w,x)\n",
        "    loss=tf.reduce_mean(tf.square(y_pred-y))\n",
        "  return x,y,y_pred,loss  \n",
        "\n",
        "  "
      ],
      "execution_count": 0,
      "outputs": []
    },
    {
      "metadata": {
        "id": "NYSTNLgO_oKp",
        "colab_type": "text"
      },
      "cell_type": "markdown",
      "source": [
        "**Run Function inside which optimaization will take place**"
      ]
    },
    {
      "metadata": {
        "id": "LqYcEuXj7OPw",
        "colab_type": "code",
        "colab": {}
      },
      "cell_type": "code",
      "source": [
        "def run():\n",
        "  x_batch,y_batch=generate_dataset()\n",
        "  x,y,y_pred,loss=linear_regression()\n",
        "  optimizer=tf.train.GradientDescentOptimizer(0.1).minimize(loss)\n",
        "  init=tf.global_variables_initializer()\n",
        "  with tf.Session() as session:\n",
        "    session.run(init)\n",
        "    \n",
        "    feed_dict={x:x_batch,y:y_batch}\n",
        "    for i in range(30):\n",
        "      loss_val,_=session.run([loss,optimizer],feed_dict)\n",
        "      print('iteration: {} loss:{}'.format(i+1,loss_val.mean()))\n",
        "    y_pred_batch=session.run(y_pred,{x:x_batch})\n",
        "    plt.scatter(x_batch,y_batch,20,c='r')\n",
        "    plt.plot(x_batch,y_pred_batch,label='best-fit line')\n",
        "    plt.savefig('plot.png')\n",
        "    plt.xlabel('X')\n",
        "    plt.ylabel('y')\n",
        "    plt.legend()\n",
        "    plt.show()\n",
        "  "
      ],
      "execution_count": 0,
      "outputs": []
    },
    {
      "metadata": {
        "id": "RFemSz3180Yr",
        "colab_type": "code",
        "colab": {
          "base_uri": "https://localhost:8080/",
          "height": 871
        },
        "outputId": "7a07b9ad-2f18-46d3-acdd-726755685ecf"
      },
      "cell_type": "code",
      "source": [
        "run()\n"
      ],
      "execution_count": 63,
      "outputs": [
        {
          "output_type": "stream",
          "text": [
            "iteration: 1 loss:0.2981119751930237\n",
            "iteration: 2 loss:0.26809850335121155\n",
            "iteration: 3 loss:0.2420281171798706\n",
            "iteration: 4 loss:0.21938273310661316\n",
            "iteration: 5 loss:0.19971241056919098\n",
            "iteration: 6 loss:0.18262632191181183\n",
            "iteration: 7 loss:0.1677849441766739\n",
            "iteration: 8 loss:0.15489330887794495\n",
            "iteration: 9 loss:0.14369536936283112\n",
            "iteration: 10 loss:0.1339685469865799\n",
            "iteration: 11 loss:0.12551960349082947\n",
            "iteration: 12 loss:0.11818066239356995\n",
            "iteration: 13 loss:0.11180587112903595\n",
            "iteration: 14 loss:0.10626856982707977\n",
            "iteration: 15 loss:0.10145873576402664\n",
            "iteration: 16 loss:0.09728081524372101\n",
            "iteration: 17 loss:0.09365174174308777\n",
            "iteration: 18 loss:0.09049946069717407\n",
            "iteration: 19 loss:0.08776132017374039\n",
            "iteration: 20 loss:0.08538289368152618\n",
            "iteration: 21 loss:0.08331693708896637\n",
            "iteration: 22 loss:0.0815223902463913\n",
            "iteration: 23 loss:0.07996361702680588\n",
            "iteration: 24 loss:0.07860963046550751\n",
            "iteration: 25 loss:0.0774335190653801\n",
            "iteration: 26 loss:0.07641192525625229\n",
            "iteration: 27 loss:0.07552454620599747\n",
            "iteration: 28 loss:0.07475373893976212\n",
            "iteration: 29 loss:0.07408419996500015\n",
            "iteration: 30 loss:0.07350261509418488\n"
          ],
          "name": "stdout"
        },
        {
          "output_type": "display_data",
          "data": {
            "image/png": "[encoded data removed]",
            "text/plain": [
              "<matplotlib.figure.Figure at 0x7f6128fe6198>"
            ]
          },
          "metadata": {
            "tags": []
          }
        }
      ]
    },
    {
      "metadata": {
        "id": "8agxrQis818v",
        "colab_type": "code",
        "colab": {}
      },
      "cell_type": "code",
      "source": [
        ""
      ],
      "execution_count": 0,
      "outputs": []
    }
  ]
}