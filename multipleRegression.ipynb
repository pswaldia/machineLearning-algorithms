{
 "cells": [
  {
   "cell_type": "markdown",
   "metadata": {},
   "source": [
    "## Implementation of multivariate linear regression"
   ]
  },
  {
   "cell_type": "markdown",
   "metadata": {},
   "source": [
    "### About the dataset"
   ]
  },
  {
   "cell_type": "markdown",
   "metadata": {},
   "source": [
    "This dataset contains the housing prices as a target value and two features namely\n",
    "-  Size in square feets\n",
    "-  No. of rooms in the house\n",
    "\n",
    "Our main focus is to predict the housing price given the features. For this purpose we will be employing Multivariate linear regression model that we will build from scratch. It can also be implemented using scikit library of python but its good to understand how it actually works. "
   ]
  },
  {
   "cell_type": "markdown",
   "metadata": {},
   "source": [
    "Before proceeding further make sure you are acquanited with what linear regression actually is. "
   ]
  },
  {
   "cell_type": "markdown",
   "metadata": {},
   "source": [
    "-  Importing the important dependancies"
   ]
  },
  {
   "cell_type": "code",
   "execution_count": 92,
   "metadata": {
    "collapsed": true,
    "deletable": true,
    "editable": true
   },
   "outputs": [],
   "source": [
    "import pandas as pd\n",
    "import numpy as np\n",
    "import matplotlib.pyplot as plt"
   ]
  },
  {
   "cell_type": "markdown",
   "metadata": {},
   "source": [
    "-  importing the datset and preprocessing the data using pandas data analysis library"
   ]
  },
  {
   "cell_type": "code",
   "execution_count": 93,
   "metadata": {
    "collapsed": false,
    "deletable": true,
    "editable": true
   },
   "outputs": [],
   "source": [
    "df=pd.read_csv('housing_price.csv')\n",
    "\n",
    "#selecting the columns that we want\n",
    "df=df.loc[:,{'size','rooms','price'}]\n",
    "\n",
    "#preparing the numpy matrices from dataframes\n",
    "targetValue=df.price.as_matrix().reshape(47,1)\n",
    "roomX=df.rooms.as_matrix()\n",
    "sizeX=df['size'].as_matrix()\n"
   ]
  },
  {
   "cell_type": "code",
   "execution_count": 96,
   "metadata": {
    "collapsed": false,
    "deletable": true,
    "editable": true,
    "scrolled": false
   },
   "outputs": [
    {
     "data": {
      "text/html": [
       "<iframe id=\"igraph\" scrolling=\"no\" style=\"border:none;\" seamless=\"seamless\" src=\"https://plot.ly/~pswaldia1/2.embed\" height=\"525px\" width=\"100%\"></iframe>"
      ],
      "text/plain": [
       "<plotly.tools.PlotlyDisplay object>"
      ]
     },
     "execution_count": 96,
     "metadata": {},
     "output_type": "execute_result"
    }
   ],
   "source": [
    "\n",
    "\n",
    "import plotly.plotly as py\n",
    "import plotly.graph_objs as go\n",
    "import plotly\n",
    "plotly.tools.set_credentials_file(username='Enter-your-plotly-username-to-see-this-interactive-plot', api_key='Enter your-api-key')\n",
    "z=targetValue\n",
    "y=roomX\n",
    "x=sizeX\n",
    "figure=go.Scatter3d(\n",
    "x=x,\n",
    "y=y,\n",
    "z=z,\n",
    "mode='markers',\n",
    "marker=dict(\n",
    "        size=6,\n",
    "        line=dict(\n",
    "            color='rgba(217, 217, 217, 0.14)',\n",
    "            width=0.5\n",
    "        ),\n",
    "        opacity=0.8\n",
    "    )\n",
    ")\n",
    "layout = go.Layout(\n",
    "    margin=dict(\n",
    "        l=0,\n",
    "        r=0,\n",
    "        b=0,\n",
    "        t=0\n",
    "    ),\n",
    "        xaxis=dict(\n",
    "        title='Room Size'\n",
    "    ),\n",
    "    yaxis=dict(\n",
    "        title='No. Of Rooms')\n",
    ")\n",
    "fig=go.Figure(data=[figure],layout=layout)\n",
    "py.iplot(fig,filename='multivariate linear regression')\n"
   ]
  },
  {
   "cell_type": "code",
   "execution_count": null,
   "metadata": {
    "collapsed": false,
    "deletable": true,
    "editable": true
   },
   "outputs": [],
   "source": []
  },
  {
   "cell_type": "code",
   "execution_count": 85,
   "metadata": {
    "collapsed": false,
    "deletable": true,
    "editable": true
   },
   "outputs": [],
   "source": [
    "def mean_normalize(X1,X2):\n",
    "    X1=(X1-np.mean(X1))/(np.std(X1))\n",
    "    X2=(X2-np.mean(X2))/(np.std(X2))\n",
    "    return (X1,X2)\n",
    "    \n",
    "    \n",
    "x1,x2=mean_normalize(sizeX,roomX) \n",
    "features=np.round(np.vstack((x1,x2,np.ones_like(x1))).reshape(47,3),2)\n",
    "theta=np.zeros((3,1))\n",
    "\n"
   ]
  },
  {
   "cell_type": "code",
   "execution_count": 86,
   "metadata": {
    "collapsed": false,
    "deletable": true,
    "editable": true
   },
   "outputs": [],
   "source": [
    "def computeCost(X,y,theta):\n",
    "    return (1.0/(2*47))*np.sum(np.power(np.dot(X,theta)-y,2))\n",
    "#normalising target value too\n",
    "mean_target=np.mean(targetValue)\n",
    "std_target=np.std(targetValue)\n",
    "targetValue_normalised=(targetValue-mean_target)/std_target\n"
   ]
  },
  {
   "cell_type": "code",
   "execution_count": 87,
   "metadata": {
    "collapsed": false,
    "deletable": true,
    "editable": true
   },
   "outputs": [
    {
     "data": {
      "text/plain": [
       "0.5"
      ]
     },
     "execution_count": 87,
     "metadata": {},
     "output_type": "execute_result"
    }
   ],
   "source": [
    "computeCost(features,targetValue_normalised,theta)"
   ]
  },
  {
   "cell_type": "code",
   "execution_count": 88,
   "metadata": {
    "collapsed": true,
    "deletable": true,
    "editable": true
   },
   "outputs": [],
   "source": [
    "\n",
    "def gradientDescent(X,y,theta,alpha,num_iter):\n",
    "    cost_array=[]\n",
    "    for i in range(num_iter):\n",
    "        y_estimate=np.dot(X,theta)\n",
    "        m=y.shape[0]\n",
    "        error=y_estimate-y\n",
    "        cost_array.append(computeCost(X,y,theta))\n",
    "        theta=theta-alpha*(1.0/m)*np.dot(X.T,error)\n",
    "    return (theta,cost_array)"
   ]
  },
  {
   "cell_type": "code",
   "execution_count": 89,
   "metadata": {
    "collapsed": false,
    "deletable": true,
    "editable": true,
    "scrolled": false
   },
   "outputs": [],
   "source": [
    "theta,cost=gradientDescent(features,targetValue_normalised,theta,0.001,15000)\n",
    "theta=theta.tolist()\n",
    "theta_list=[]\n",
    "for i in range(3):\n",
    "    theta_list.append(theta[i][0])\n"
   ]
  },
  {
   "cell_type": "code",
   "execution_count": 90,
   "metadata": {
    "collapsed": false,
    "deletable": true,
    "editable": true
   },
   "outputs": [
    {
     "data": {
      "image/png": "[encoded data removed]",
      "text/plain": [
       "<matplotlib.figure.Figure at 0x11ed182e8>"
      ]
     },
     "metadata": {},
     "output_type": "display_data"
    }
   ],
   "source": [
    "plt.plot([i for i in range(15000)],cost)\n",
    "plt.xlabel('no. of iterations')\n",
    "plt.ylabel('cost')\n",
    "\n",
    "plt.show()"
   ]
  },
  {
   "cell_type": "code",
   "execution_count": null,
   "metadata": {
    "collapsed": true
   },
   "outputs": [],
   "source": []
  },
  {
   "cell_type": "code",
   "execution_count": 91,
   "metadata": {
    "collapsed": false,
    "deletable": true,
    "editable": true
   },
   "outputs": [
    {
     "data": {
      "text/plain": [
       "323554.84439503262"
      ]
     },
     "execution_count": 91,
     "metadata": {},
     "output_type": "execute_result"
    }
   ],
   "source": [
    "mean_size=np.mean(sizeX)\n",
    "mean_room=np.mean(roomX)\n",
    "std_size=np.std(sizeX)\n",
    "std_room=np.std(roomX)\n",
    "predict=theta_list[0]+theta_list[1]*((1600-mean_size)/(std_size))+theta_list[2]*((3-mean_room)/(std_room))\n",
    "predict=(predict*std_target)+mean_target     #again converting to non-normalised form.\n",
    "predict       \n"
   ]
  },
  {
   "cell_type": "markdown",
   "metadata": {},
   "source": [
    "The targetValue for (x1=1600,x2=3) is 329900 and the predicted value is 323554.84439 which is quite close considering that there is no knowledge of learning rate alpha to us. We are just assuming it to be 0.001. Moreover changing the number of iterations also affects the result. So this is how the multivariate linear regression works.  "
   ]
  },
  {
   "cell_type": "code",
   "execution_count": null,
   "metadata": {
    "collapsed": true
   },
   "outputs": [],
   "source": []
  }
 ],
 "metadata": {
  "kernelspec": {
   "display_name": "Python 3",
   "language": "python",
   "name": "python3"
  },
  "language_info": {
   "codemirror_mode": {
    "name": "ipython",
    "version": 3
   },
   "file_extension": ".py",
   "mimetype": "text/x-python",
   "name": "python",
   "nbconvert_exporter": "python",
   "pygments_lexer": "ipython3",
   "version": "3.6.3"
  }
 },
 "nbformat": 4,
 "nbformat_minor": 2
}
